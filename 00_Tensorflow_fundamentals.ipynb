{
 "cells": [
  {
   "attachments": {},
   "cell_type": "markdown",
   "metadata": {},
   "source": [
    "##### In this notebook, we are going to cover some of the most fundamentals concepts of tensors using Tensorflow\n",
    "\n",
    "More specifically, we are going to cover:\n",
    "* Introduction to tensors\n",
    "* Getting information from tensors\n",
    "* Manipulation tensors\n",
    "* Tensors and Numpy\n",
    "* Using @tf.function (a way to speed up your regular Python functions)\n",
    "* Using GPUs with Tensorflow (or TPUs)\n",
    "* Exercises to try yourself!"
   ]
  },
  {
   "attachments": {},
   "cell_type": "markdown",
   "metadata": {},
   "source": [
    "<b>Introduction to tensors"
   ]
  },
  {
   "cell_type": "code",
   "execution_count": 5,
   "metadata": {},
   "outputs": [
    {
     "data": {
      "text/plain": [
       "'2.11.0'"
      ]
     },
     "execution_count": 5,
     "metadata": {},
     "output_type": "execute_result"
    }
   ],
   "source": [
    "## Import Tensorflow\n",
    "import tensorflow as tf\n",
    "\n",
    "tf.__version__"
   ]
  },
  {
   "attachments": {},
   "cell_type": "markdown",
   "metadata": {},
   "source": [
    "<b>Create tensors with `tf.constant()`"
   ]
  },
  {
   "cell_type": "code",
   "execution_count": 7,
   "metadata": {},
   "outputs": [
    {
     "data": {
      "text/plain": [
       "<tf.Tensor: shape=(), dtype=int32, numpy=3>"
      ]
     },
     "execution_count": 7,
     "metadata": {},
     "output_type": "execute_result"
    }
   ],
   "source": [
    "## Create tensors with tf.constant()\n",
    "scaler = tf.constant(3)\n",
    "scaler"
   ]
  },
  {
   "cell_type": "code",
   "execution_count": 8,
   "metadata": {},
   "outputs": [
    {
     "data": {
      "text/plain": [
       "0"
      ]
     },
     "execution_count": 8,
     "metadata": {},
     "output_type": "execute_result"
    }
   ],
   "source": [
    "## Check the number of  dimensions of a tensor (ndim stands for number of dimensions)\n",
    "scaler.ndim"
   ]
  },
  {
   "cell_type": "code",
   "execution_count": 9,
   "metadata": {},
   "outputs": [
    {
     "data": {
      "text/plain": [
       "<tf.Tensor: shape=(2,), dtype=int32, numpy=array([10, 10])>"
      ]
     },
     "execution_count": 9,
     "metadata": {},
     "output_type": "execute_result"
    }
   ],
   "source": [
    "## Create a vector\n",
    "vector = tf.constant([10, 10])\n",
    "vector"
   ]
  },
  {
   "cell_type": "code",
   "execution_count": 11,
   "metadata": {},
   "outputs": [
    {
     "data": {
      "text/plain": [
       "1"
      ]
     },
     "execution_count": 11,
     "metadata": {},
     "output_type": "execute_result"
    }
   ],
   "source": [
    "## Check the dimension of our vectır\n",
    "vector.ndim"
   ]
  },
  {
   "cell_type": "code",
   "execution_count": 12,
   "metadata": {},
   "outputs": [
    {
     "data": {
      "text/plain": [
       "<tf.Tensor: shape=(2, 2), dtype=int32, numpy=\n",
       "array([[1, 1],\n",
       "       [2, 2]])>"
      ]
     },
     "execution_count": 12,
     "metadata": {},
     "output_type": "execute_result"
    }
   ],
   "source": [
    "## Create a matrix\n",
    "matrix = tf.constant([[1,1], \n",
    "                      [2,2]])\n",
    "matrix"
   ]
  },
  {
   "cell_type": "code",
   "execution_count": 14,
   "metadata": {},
   "outputs": [
    {
     "data": {
      "text/plain": [
       "2"
      ]
     },
     "execution_count": 14,
     "metadata": {},
     "output_type": "execute_result"
    }
   ],
   "source": [
    "## Check the dimension of our matrix\n",
    "matrix.ndim"
   ]
  },
  {
   "cell_type": "code",
   "execution_count": 16,
   "metadata": {},
   "outputs": [
    {
     "data": {
      "text/plain": [
       "<tf.Tensor: shape=(3, 2), dtype=float16, numpy=\n",
       "array([[1., 1.],\n",
       "       [2., 2.],\n",
       "       [3., 3.]], dtype=float16)>"
      ]
     },
     "execution_count": 16,
     "metadata": {},
     "output_type": "execute_result"
    }
   ],
   "source": [
    "## Create another matrix\n",
    "another_matrix = tf.constant([[1., 1.],\n",
    "                              [2., 2.],\n",
    "                              [3., 3.]], dtype=tf.float16) ## Specify the data type with dtype\n",
    "\n",
    "another_matrix"
   ]
  },
  {
   "cell_type": "code",
   "execution_count": 18,
   "metadata": {},
   "outputs": [
    {
     "data": {
      "text/plain": [
       "2"
      ]
     },
     "execution_count": 18,
     "metadata": {},
     "output_type": "execute_result"
    }
   ],
   "source": [
    "## Check the ndim of our another_matrix\n",
    "another_matrix.ndim"
   ]
  },
  {
   "cell_type": "code",
   "execution_count": 25,
   "metadata": {},
   "outputs": [
    {
     "data": {
      "text/plain": [
       "<tf.Tensor: shape=(2, 3, 4), dtype=int32, numpy=\n",
       "array([[[1, 1, 1, 1],\n",
       "        [2, 2, 2, 2],\n",
       "        [3, 3, 3, 3]],\n",
       "\n",
       "       [[4, 4, 4, 4],\n",
       "        [5, 5, 5, 5],\n",
       "        [6, 6, 6, 6]]])>"
      ]
     },
     "execution_count": 25,
     "metadata": {},
     "output_type": "execute_result"
    }
   ],
   "source": [
    "## Create tensor\n",
    "    # Number of outer list => 2\n",
    "    # Number of row => 3\n",
    "    # Number of columns => 4\n",
    "tensor = tf.constant([[[1, 1, 1, 1],\n",
    "                       [2, 2, 2, 2], \n",
    "                       [3, 3, 3, 3]],\n",
    "\n",
    "                      [[4, 4, 4, 4], \n",
    "                       [5, 5, 5, 5], \n",
    "                       [6, 6, 6, 6]]])\n",
    "\n",
    "tensor"
   ]
  },
  {
   "cell_type": "code",
   "execution_count": 27,
   "metadata": {},
   "outputs": [
    {
     "data": {
      "text/plain": [
       "3"
      ]
     },
     "execution_count": 27,
     "metadata": {},
     "output_type": "execute_result"
    }
   ],
   "source": [
    "## Check the ndim of our tensor\n",
    "tensor.ndim"
   ]
  },
  {
   "attachments": {},
   "cell_type": "markdown",
   "metadata": {},
   "source": [
    "<b>Create tensors with `tf.Variable()`"
   ]
  },
  {
   "cell_type": "code",
   "execution_count": 34,
   "metadata": {
    "tags": []
   },
   "outputs": [
    {
     "data": {
      "text/plain": [
       "(<tf.Variable 'Variable:0' shape=(2,) dtype=int32, numpy=array([1, 2])>,\n",
       " <tf.Tensor: shape=(2,), dtype=int32, numpy=array([1, 2])>)"
      ]
     },
     "execution_count": 34,
     "metadata": {},
     "output_type": "execute_result"
    }
   ],
   "source": [
    "## Create tensors with tf.Variable()\n",
    "changeable_tensor = tf.Variable([1, 2])\n",
    "unchangeable_tensor = tf.constant([1, 2])\n",
    "\n",
    "changeable_tensor, unchangeable_tensor"
   ]
  },
  {
   "cell_type": "code",
   "execution_count": 37,
   "metadata": {},
   "outputs": [
    {
     "ename": "TypeError",
     "evalue": "'ResourceVariable' object does not support item assignment",
     "output_type": "error",
     "traceback": [
      "\u001b[1;31m---------------------------------------------------------------------------\u001b[0m",
      "\u001b[1;31mTypeError\u001b[0m                                 Traceback (most recent call last)",
      "Cell \u001b[1;32mIn[37], line 2\u001b[0m\n\u001b[0;32m      1\u001b[0m \u001b[39m## Let's try change one of the variable in our changeable tensor\u001b[39;00m\n\u001b[1;32m----> 2\u001b[0m changeable_tensor[\u001b[39m0\u001b[39;49m] \u001b[39m=\u001b[39m \u001b[39m0\u001b[39m\n",
      "\u001b[1;31mTypeError\u001b[0m: 'ResourceVariable' object does not support item assignment"
     ]
    }
   ],
   "source": [
    "## Let's try change one of the variable in our changeable tensor\n",
    "changeable_tensor[0] = 0"
   ]
  },
  {
   "cell_type": "code",
   "execution_count": 40,
   "metadata": {},
   "outputs": [
    {
     "data": {
      "text/plain": [
       "<tf.Variable 'Variable:0' shape=(2,) dtype=int32, numpy=array([0, 2])>"
      ]
     },
     "execution_count": 40,
     "metadata": {},
     "output_type": "execute_result"
    }
   ],
   "source": [
    "## How about we try .assign()\n",
    "changeable_tensor[0].assign(0)\n",
    "changeable_tensor"
   ]
  },
  {
   "cell_type": "code",
   "execution_count": 42,
   "metadata": {},
   "outputs": [
    {
     "ename": "TypeError",
     "evalue": "'tensorflow.python.framework.ops.EagerTensor' object does not support item assignment",
     "output_type": "error",
     "traceback": [
      "\u001b[1;31m---------------------------------------------------------------------------\u001b[0m",
      "\u001b[1;31mTypeError\u001b[0m                                 Traceback (most recent call last)",
      "Cell \u001b[1;32mIn[42], line 2\u001b[0m\n\u001b[0;32m      1\u001b[0m \u001b[39m## Let's try change our unchangeable tensor\u001b[39;00m\n\u001b[1;32m----> 2\u001b[0m unchangeable_tensor[\u001b[39m0\u001b[39;49m] \u001b[39m=\u001b[39m \u001b[39m0\u001b[39m\n",
      "\u001b[1;31mTypeError\u001b[0m: 'tensorflow.python.framework.ops.EagerTensor' object does not support item assignment"
     ]
    }
   ],
   "source": [
    "## Let's try change our unchangeable tensor\n",
    "unchangeable_tensor[0] = 0"
   ]
  },
  {
   "cell_type": "code",
   "execution_count": 43,
   "metadata": {},
   "outputs": [
    {
     "ename": "AttributeError",
     "evalue": "'tensorflow.python.framework.ops.EagerTensor' object has no attribute 'assign'",
     "output_type": "error",
     "traceback": [
      "\u001b[1;31m---------------------------------------------------------------------------\u001b[0m",
      "\u001b[1;31mAttributeError\u001b[0m                            Traceback (most recent call last)",
      "Cell \u001b[1;32mIn[43], line 2\u001b[0m\n\u001b[0;32m      1\u001b[0m \u001b[39m## How about we try with .assign() to change our unchangeable tensor\u001b[39;00m\n\u001b[1;32m----> 2\u001b[0m unchangeable_tensor[\u001b[39m0\u001b[39;49m]\u001b[39m.\u001b[39;49massign(\u001b[39m0\u001b[39m)\n",
      "File \u001b[1;32mc:\\Users\\MMucahitNAS\\AppData\\Local\\Programs\\Python\\Python39\\lib\\site-packages\\tensorflow\\python\\framework\\ops.py:444\u001b[0m, in \u001b[0;36mTensor.__getattr__\u001b[1;34m(self, name)\u001b[0m\n\u001b[0;32m    435\u001b[0m \u001b[39mif\u001b[39;00m name \u001b[39min\u001b[39;00m {\u001b[39m\"\u001b[39m\u001b[39mT\u001b[39m\u001b[39m\"\u001b[39m, \u001b[39m\"\u001b[39m\u001b[39mastype\u001b[39m\u001b[39m\"\u001b[39m, \u001b[39m\"\u001b[39m\u001b[39mravel\u001b[39m\u001b[39m\"\u001b[39m, \u001b[39m\"\u001b[39m\u001b[39mtranspose\u001b[39m\u001b[39m\"\u001b[39m, \u001b[39m\"\u001b[39m\u001b[39mreshape\u001b[39m\u001b[39m\"\u001b[39m, \u001b[39m\"\u001b[39m\u001b[39mclip\u001b[39m\u001b[39m\"\u001b[39m, \u001b[39m\"\u001b[39m\u001b[39msize\u001b[39m\u001b[39m\"\u001b[39m,\n\u001b[0;32m    436\u001b[0m             \u001b[39m\"\u001b[39m\u001b[39mtolist\u001b[39m\u001b[39m\"\u001b[39m, \u001b[39m\"\u001b[39m\u001b[39mdata\u001b[39m\u001b[39m\"\u001b[39m}:\n\u001b[0;32m    437\u001b[0m   \u001b[39m# TODO(wangpeng): Export the enable_numpy_behavior knob\u001b[39;00m\n\u001b[0;32m    438\u001b[0m   \u001b[39mraise\u001b[39;00m \u001b[39mAttributeError\u001b[39;00m(\n\u001b[0;32m    439\u001b[0m       \u001b[39mf\u001b[39m\u001b[39m\"\u001b[39m\u001b[39m{\u001b[39;00m\u001b[39mtype\u001b[39m(\u001b[39mself\u001b[39m)\u001b[39m.\u001b[39m\u001b[39m__name__\u001b[39m\u001b[39m}\u001b[39;00m\u001b[39m object has no attribute \u001b[39m\u001b[39m'\u001b[39m\u001b[39m{\u001b[39;00mname\u001b[39m}\u001b[39;00m\u001b[39m'\u001b[39m\u001b[39m. \u001b[39m\u001b[39m\"\u001b[39m \u001b[39m+\u001b[39m \u001b[39m\"\"\"\u001b[39m\n\u001b[0;32m    440\u001b[0m \u001b[39m    If you are looking for numpy-related methods, please run the following:\u001b[39m\n\u001b[0;32m    441\u001b[0m \u001b[39m    from tensorflow.python.ops.numpy_ops import np_config\u001b[39m\n\u001b[0;32m    442\u001b[0m \u001b[39m    np_config.enable_numpy_behavior()\u001b[39m\n\u001b[0;32m    443\u001b[0m \u001b[39m  \u001b[39m\u001b[39m\"\"\"\u001b[39m)\n\u001b[1;32m--> 444\u001b[0m \u001b[39mself\u001b[39;49m\u001b[39m.\u001b[39;49m\u001b[39m__getattribute__\u001b[39;49m(name)\n",
      "\u001b[1;31mAttributeError\u001b[0m: 'tensorflow.python.framework.ops.EagerTensor' object has no attribute 'assign'"
     ]
    }
   ],
   "source": [
    "## How about we try with .assign() to change our unchangeable tensor\n",
    "unchangeable_tensor[0].assign(0)"
   ]
  },
  {
   "attachments": {},
   "cell_type": "markdown",
   "metadata": {},
   "source": [
    "<b>Creating radom tensors"
   ]
  },
  {
   "cell_type": "code",
   "execution_count": 62,
   "metadata": {},
   "outputs": [
    {
     "data": {
      "text/plain": [
       "(<tf.Tensor: shape=(2, 3, 4), dtype=float32, numpy=\n",
       " array([[[0.02760839, 0.99757504, 0.52172756, 0.20307171],\n",
       "         [0.7182547 , 0.84263575, 0.9542595 , 0.90112185],\n",
       "         [0.62839293, 0.08619452, 0.5679928 , 0.28763676]],\n",
       " \n",
       "        [[0.18828917, 0.6658715 , 0.6190208 , 0.04422736],\n",
       "         [0.49626625, 0.6474861 , 0.3557682 , 0.32033885],\n",
       "         [0.33705008, 0.7391062 , 0.16512096, 0.41555858]]], dtype=float32)>,\n",
       " <tf.Tensor: shape=(2, 3, 4), dtype=float32, numpy=\n",
       " array([[[0.02760839, 0.99757504, 0.52172756, 0.20307171],\n",
       "         [0.7182547 , 0.84263575, 0.9542595 , 0.90112185],\n",
       "         [0.62839293, 0.08619452, 0.5679928 , 0.28763676]],\n",
       " \n",
       "        [[0.18828917, 0.6658715 , 0.6190208 , 0.04422736],\n",
       "         [0.49626625, 0.6474861 , 0.3557682 , 0.32033885],\n",
       "         [0.33705008, 0.7391062 , 0.16512096, 0.41555858]]], dtype=float32)>,\n",
       " <tf.Tensor: shape=(2, 3, 4), dtype=bool, numpy=\n",
       " array([[[ True,  True,  True,  True],\n",
       "         [ True,  True,  True,  True],\n",
       "         [ True,  True,  True,  True]],\n",
       " \n",
       "        [[ True,  True,  True,  True],\n",
       "         [ True,  True,  True,  True],\n",
       "         [ True,  True,  True,  True]]])>)"
      ]
     },
     "execution_count": 62,
     "metadata": {},
     "output_type": "execute_result"
    }
   ],
   "source": [
    "## Random tensors are tensors of some abitrary size which contain random numbers.\n",
    "\n",
    "## Create two random (but the same) tensors\n",
    "random_tensor_1 = tf.random.Generator.from_seed(55)\n",
    "random_tensor_1 = random_tensor_1.uniform(shape=(2, 3, 4))\n",
    "\n",
    "random_tensor_2 = tf.random.Generator.from_seed(55)\n",
    "random_tensor_2 = random_tensor_2.uniform(shape=(2, 3, 4))\n",
    "\n",
    "## Are they equal?\n",
    "\n",
    "random_tensor_1, random_tensor_2, random_tensor_1 == random_tensor_2"
   ]
  },
  {
   "attachments": {},
   "cell_type": "markdown",
   "metadata": {},
   "source": [
    "<b>Shuffle the order of elements in a tensor"
   ]
  },
  {
   "cell_type": "code",
   "execution_count": 93,
   "metadata": {},
   "outputs": [
    {
     "data": {
      "text/plain": [
       "<tf.Tensor: shape=(3, 2), dtype=int32, numpy=\n",
       "array([[5, 6],\n",
       "       [1, 2],\n",
       "       [3, 4]])>"
      ]
     },
     "execution_count": 93,
     "metadata": {},
     "output_type": "execute_result"
    }
   ],
   "source": [
    "## Shuffle a tensor (usefull for when you want to shuffle your data so the inherent order doesn't effect learning)\n",
    "not_shuffled = tf.constant([[1, 2],\n",
    "                            [3, 4],\n",
    "                            [5, 6]])\n",
    "\n",
    "## Shuffle our non-shuffle data\n",
    "tf.random.set_seed(55) ## Global level seed\n",
    "shuffled = tf.random.shuffle(not_shuffled, seed=55) ## Operation level seed\n",
    "shuffled"
   ]
  },
  {
   "attachments": {},
   "cell_type": "markdown",
   "metadata": {},
   "source": [
    "If we want our shuffled tensor to be same order, we have got to use global level random seed as well as operation level random seed:</br>\n",
    "> Rule 4: \"If both the global and operation seed are set: Both seeds are used in conjunction to determine the random sequence\""
   ]
  },
  {
   "cell_type": "code",
   "execution_count": null,
   "metadata": {},
   "outputs": [],
   "source": [
    "## Reproducable Shuffle\n",
    "tf.random.set_seed(55) ## Global level seed\n",
    "shuffled = tf.random.shuffle(not_shuffled, seed=55) ## Operation level seed\n",
    "shuffled"
   ]
  },
  {
   "attachments": {},
   "cell_type": "markdown",
   "metadata": {},
   "source": [
    "<b>Other ways to create tensors"
   ]
  },
  {
   "cell_type": "code",
   "execution_count": 95,
   "metadata": {},
   "outputs": [
    {
     "data": {
      "text/plain": [
       "<tf.Tensor: shape=(2, 3, 4), dtype=float32, numpy=\n",
       "array([[[1., 1., 1., 1.],\n",
       "        [1., 1., 1., 1.],\n",
       "        [1., 1., 1., 1.]],\n",
       "\n",
       "       [[1., 1., 1., 1.],\n",
       "        [1., 1., 1., 1.],\n",
       "        [1., 1., 1., 1.]]], dtype=float32)>"
      ]
     },
     "execution_count": 95,
     "metadata": {},
     "output_type": "execute_result"
    }
   ],
   "source": [
    "## Create tensor of all ones\n",
    "tf.ones([2, 3, 4])"
   ]
  },
  {
   "cell_type": "code",
   "execution_count": 98,
   "metadata": {},
   "outputs": [
    {
     "data": {
      "text/plain": [
       "<tf.Tensor: shape=(2, 3, 4), dtype=float32, numpy=\n",
       "array([[[0., 0., 0., 0.],\n",
       "        [0., 0., 0., 0.],\n",
       "        [0., 0., 0., 0.]],\n",
       "\n",
       "       [[0., 0., 0., 0.],\n",
       "        [0., 0., 0., 0.],\n",
       "        [0., 0., 0., 0.]]], dtype=float32)>"
      ]
     },
     "execution_count": 98,
     "metadata": {},
     "output_type": "execute_result"
    }
   ],
   "source": [
    "## Create tensor of all zeros\n",
    "tf.zeros([2, 3, 4])"
   ]
  },
  {
   "cell_type": "code",
   "execution_count": 99,
   "metadata": {},
   "outputs": [],
   "source": [
    "# X = tf.constant(some_marix) # Capital for matrix or tensor\n",
    "# y = tf.constant(vector) # non-Capital for vector"
   ]
  },
  {
   "cell_type": "code",
   "execution_count": 112,
   "metadata": {},
   "outputs": [
    {
     "data": {
      "text/plain": [
       "<tf.Tensor: shape=(2, 3, 4), dtype=float16, numpy=\n",
       "array([[[ 1.,  2.,  3.,  4.],\n",
       "        [ 5.,  6.,  7.,  8.],\n",
       "        [ 9., 10., 11., 12.]],\n",
       "\n",
       "       [[13., 14., 15., 16.],\n",
       "        [17., 18., 19., 20.],\n",
       "        [21., 22., 23., 24.]]], dtype=float16)>"
      ]
     },
     "execution_count": 112,
     "metadata": {},
     "output_type": "execute_result"
    }
   ],
   "source": [
    "## We can also turn Numpy into tensor\n",
    "import numpy as np\n",
    "\n",
    "numpy_Array = np.arange(1, 25, dtype=np.int32)\n",
    "\n",
    "numpy_To_Tensor = tf.constant(numpy_Array, shape=(2, 3, 4), dtype=tf.float16)\n",
    "numpy_To_Tensor"
   ]
  },
  {
   "attachments": {},
   "cell_type": "markdown",
   "metadata": {},
   "source": [
    "<b>Getting Information from tensors"
   ]
  },
  {
   "cell_type": "code",
   "execution_count": 124,
   "metadata": {},
   "outputs": [
    {
     "name": "stdout",
     "output_type": "stream",
     "text": [
      "(2, 3, 4)\n",
      "3\n",
      "tf.Tensor(\n",
      "[[ 1.  2.  3.  4.]\n",
      " [ 5.  6.  7.  8.]\n",
      " [ 9. 10. 11. 12.]], shape=(3, 4), dtype=float16) tf.Tensor(\n",
      "[[13. 14. 15. 16.]\n",
      " [17. 18. 19. 20.]\n",
      " [21. 22. 23. 24.]], shape=(3, 4), dtype=float16)\n",
      "tf.Tensor(24, shape=(), dtype=int32)\n"
     ]
    }
   ],
   "source": [
    "## Shape: The length (number of element) of each of the dimension of a tensor\n",
    "print(numpy_To_Tensor.shape)\n",
    "## Rank: The number of dimension \n",
    "print(numpy_To_Tensor.ndim)\n",
    "## Axis or dimension: A particular (spesifik, özel) dimension of a tensor\n",
    "print(numpy_To_Tensor[0], numpy_To_Tensor[1]) ## (2, 3, 4)\n",
    "## Size: Total number of items in the tensor\n",
    "print(tf.size(numpy_To_Tensor))"
   ]
  },
  {
   "cell_type": "code",
   "execution_count": 142,
   "metadata": {},
   "outputs": [
    {
     "name": "stdout",
     "output_type": "stream",
     "text": [
      "Shape:  (2, 5, 2, 3)\n",
      "Ndim (Number of Dimension):  4\n",
      "Size:  tf.Tensor(60, shape=(), dtype=int32)\n"
     ]
    }
   ],
   "source": [
    "random_tensor = tf.random.Generator.from_seed(seed=55)\n",
    "random_tensor = random_tensor.normal(shape=(2, 5, 2, 3))\n",
    "\n",
    "## Two tensor with 5 matrix those matrix have (2, 3) matrix\n",
    "print('Shape: ', random_tensor.shape)\n",
    "print('Ndim (Number of Dimension): ', random_tensor.ndim)\n",
    "print('Size: ', tf.size(random_tensor)) ## 2 * 5 * 2 * 3 = 60"
   ]
  },
  {
   "cell_type": "code",
   "execution_count": 143,
   "metadata": {},
   "outputs": [
    {
     "data": {
      "text/plain": [
       "<tf.Tensor: shape=(2, 5, 2, 3), dtype=float32, numpy=\n",
       "array([[[[-0.04082382,  2.6791053 ,  1.0914806 ],\n",
       "         [ 0.33149615, -0.67958915,  0.44723678]],\n",
       "\n",
       "        [[-0.17811584,  0.24882518,  0.49689844],\n",
       "         [ 0.8259971 ,  1.0340209 , -0.24918637]],\n",
       "\n",
       "        [[-1.5780283 , -0.92161775,  0.268676  ],\n",
       "         [ 0.9418312 , -0.9465717 , -0.7108357 ]],\n",
       "\n",
       "        [[ 1.2995545 , -0.6149066 , -1.4713507 ],\n",
       "         [-0.10086866,  0.9603877 , -1.6370124 ]],\n",
       "\n",
       "        [[ 0.17664973, -0.67038715, -0.503455  ],\n",
       "         [-1.203792  , -2.5255601 ,  0.05080947]]],\n",
       "\n",
       "\n",
       "       [[[ 1.7212061 , -0.6575125 ,  0.7939443 ],\n",
       "         [ 1.3212339 ,  0.34584793, -0.6699328 ]],\n",
       "\n",
       "        [[ 0.4604257 ,  0.514933  , -0.06519881],\n",
       "         [-1.442522  , -0.48492542, -1.8364043 ]],\n",
       "\n",
       "        [[ 0.91463274,  0.5145402 ,  0.5517507 ],\n",
       "         [-0.3741098 , -0.28709963,  1.5089895 ]],\n",
       "\n",
       "        [[-0.14833727, -1.2846565 ,  0.5484313 ],\n",
       "         [ 0.10596129,  0.21793836,  0.7063839 ]],\n",
       "\n",
       "        [[-0.19219153,  1.1390278 ,  0.29164317],\n",
       "         [ 1.4531525 , -0.8223833 , -1.3446563 ]]]], dtype=float32)>"
      ]
     },
     "execution_count": 143,
     "metadata": {},
     "output_type": "execute_result"
    }
   ],
   "source": [
    "random_tensor"
   ]
  },
  {
   "attachments": {},
   "cell_type": "markdown",
   "metadata": {},
   "source": [
    "<b> Indexing tensors </b></br>\n",
    "Tensors can be indexed just like a Python list"
   ]
  },
  {
   "cell_type": "code",
   "execution_count": 195,
   "metadata": {},
   "outputs": [
    {
     "data": {
      "text/plain": [
       "<tf.Tensor: shape=(4, 5, 2, 3), dtype=int32, numpy=\n",
       "array([[[[  0,   1,   2],\n",
       "         [  3,   4,   5]],\n",
       "\n",
       "        [[  6,   7,   8],\n",
       "         [  9,  10,  11]],\n",
       "\n",
       "        [[ 12,  13,  14],\n",
       "         [ 15,  16,  17]],\n",
       "\n",
       "        [[ 18,  19,  20],\n",
       "         [ 21,  22,  23]],\n",
       "\n",
       "        [[ 24,  25,  26],\n",
       "         [ 27,  28,  29]]],\n",
       "\n",
       "\n",
       "       [[[ 30,  31,  32],\n",
       "         [ 33,  34,  35]],\n",
       "\n",
       "        [[ 36,  37,  38],\n",
       "         [ 39,  40,  41]],\n",
       "\n",
       "        [[ 42,  43,  44],\n",
       "         [ 45,  46,  47]],\n",
       "\n",
       "        [[ 48,  49,  50],\n",
       "         [ 51,  52,  53]],\n",
       "\n",
       "        [[ 54,  55,  56],\n",
       "         [ 57,  58,  59]]],\n",
       "\n",
       "\n",
       "       [[[ 60,  61,  62],\n",
       "         [ 63,  64,  65]],\n",
       "\n",
       "        [[ 66,  67,  68],\n",
       "         [ 69,  70,  71]],\n",
       "\n",
       "        [[ 72,  73,  74],\n",
       "         [ 75,  76,  77]],\n",
       "\n",
       "        [[ 78,  79,  80],\n",
       "         [ 81,  82,  83]],\n",
       "\n",
       "        [[ 84,  85,  86],\n",
       "         [ 87,  88,  89]]],\n",
       "\n",
       "\n",
       "       [[[ 90,  91,  92],\n",
       "         [ 93,  94,  95]],\n",
       "\n",
       "        [[ 96,  97,  98],\n",
       "         [ 99, 100, 101]],\n",
       "\n",
       "        [[102, 103, 104],\n",
       "         [105, 106, 107]],\n",
       "\n",
       "        [[108, 109, 110],\n",
       "         [111, 112, 113]],\n",
       "\n",
       "        [[114, 115, 116],\n",
       "         [117, 118, 119]]]])>"
      ]
     },
     "execution_count": 195,
     "metadata": {},
     "output_type": "execute_result"
    }
   ],
   "source": [
    "## Get the first two elements of each dimension\n",
    "\n",
    "vector = np.arange(0, 120)\n",
    "Tensor = tf.constant(vector, shape=(4, 5, 2, 3))\n",
    "Tensor"
   ]
  },
  {
   "cell_type": "code",
   "execution_count": 196,
   "metadata": {},
   "outputs": [
    {
     "data": {
      "text/plain": [
       "<tf.Tensor: shape=(2, 2, 2, 2), dtype=int32, numpy=\n",
       "array([[[[ 0,  1],\n",
       "         [ 3,  4]],\n",
       "\n",
       "        [[ 6,  7],\n",
       "         [ 9, 10]]],\n",
       "\n",
       "\n",
       "       [[[30, 31],\n",
       "         [33, 34]],\n",
       "\n",
       "        [[36, 37],\n",
       "         [39, 40]]]])>"
      ]
     },
     "execution_count": 196,
     "metadata": {},
     "output_type": "execute_result"
    }
   ],
   "source": [
    "## First two tensors and first two matrix which are in those tensors\n",
    "## First two rows and columns which are in those matrix which are in tensors\n",
    "Tensor[0:2, 0:2 , 0:2 , 0:2]"
   ]
  },
  {
   "cell_type": "code",
   "execution_count": 198,
   "metadata": {},
   "outputs": [
    {
     "data": {
      "text/plain": [
       "<tf.Tensor: shape=(1, 1, 1, 3), dtype=int32, numpy=array([[[[0, 1, 2]]]])>"
      ]
     },
     "execution_count": 198,
     "metadata": {},
     "output_type": "execute_result"
    }
   ],
   "source": [
    "## Get the first element from each dimension from each index except for the final one\n",
    "Tensor[:1, :1, :1, :]"
   ]
  },
  {
   "cell_type": "code",
   "execution_count": 233,
   "metadata": {},
   "outputs": [],
   "source": [
    "## When we want to add an extra dimension, we can use those methods\n",
    "## Those methods have same result\n",
    "\n",
    "rank_2_tensor = tf.constant([[10, 7],\n",
    "                    [3, 4]])\n",
    "\n",
    "rank_3_tensor = tf.reshape(rank_2_tensor, shape=(2, 2, 1))\n",
    "\n",
    "rank_3_tensor = rank_2_tensor[..., tf.newaxis]\n",
    "\n",
    "rank_3_tensor = rank_2_tensor[:, :, tf.newaxis]\n",
    "\n",
    "rank_3_tensor = tf.expand_dims(rank_2_tensor, axis=-1)"
   ]
  },
  {
   "attachments": {},
   "cell_type": "markdown",
   "metadata": {},
   "source": [
    "<b>Matrix Multiplication (Dot Product)</b>\n",
    "* In Machine learning, Matrix Multiplication is one of the most common tensor operations."
   ]
  },
  {
   "cell_type": "code",
   "execution_count": 250,
   "metadata": {},
   "outputs": [
    {
     "data": {
      "text/plain": [
       "<tf.Tensor: shape=(2, 2), dtype=float32, numpy=\n",
       "array([[1.3966359, 0.5033257],\n",
       "       [0.2030847, 1.1561513]], dtype=float32)>"
      ]
     },
     "execution_count": 250,
     "metadata": {},
     "output_type": "execute_result"
    }
   ],
   "source": [
    "## If we want to multiply two matrix, First matrix's number of columns should be equal to second matrix's number of row\n",
    "## When multiply two matrix, shape of result matrix would be first matrix's number of rows and second matrix's number of columns\n",
    "tensor1 = tf.random.Generator.from_seed(seed=55)\n",
    "tensor1 = tensor1.normal(shape=(2,2))\n",
    "\n",
    "tensor2 = tf.random.Generator.from_seed(seed=55)\n",
    "tensor2 = tensor2.uniform(shape=(2,2))\n",
    "\n",
    "tf.linalg.matmul(tensor1, tensor2)"
   ]
  },
  {
   "cell_type": "code",
   "execution_count": 253,
   "metadata": {},
   "outputs": [
    {
     "data": {
      "text/plain": [
       "<tf.Tensor: shape=(2, 2), dtype=float32, numpy=\n",
       "array([[-1.5846004 ,  0.00575152],\n",
       "       [-0.9271422 ,  0.24484438]], dtype=float32)>"
      ]
     },
     "execution_count": 253,
     "metadata": {},
     "output_type": "execute_result"
    }
   ],
   "source": [
    "## İf we have two matrix which have same shape, we can't multiply those matrix but if we transpose one matrix, we could be multiply\n",
    "same_shape_tensor1 = tf.random.uniform([2, 3])\n",
    "same_shape_tensor2 = tf.random.normal([2, 3])\n",
    "\n",
    "transpose_same_shape_tensor2 = tf.transpose(same_shape_tensor2) ## Shape (3, 2)\n",
    "\n",
    "tf.linalg.matmul(same_shape_tensor1, transpose_same_shape_tensor2)"
   ]
  },
  {
   "cell_type": "code",
   "execution_count": null,
   "metadata": {},
   "outputs": [],
   "source": []
  }
 ],
 "metadata": {
  "kernelspec": {
   "display_name": "Python 3",
   "language": "python",
   "name": "python3"
  },
  "language_info": {
   "codemirror_mode": {
    "name": "ipython",
    "version": 3
   },
   "file_extension": ".py",
   "mimetype": "text/x-python",
   "name": "python",
   "nbconvert_exporter": "python",
   "pygments_lexer": "ipython3",
   "version": "3.9.5"
  },
  "orig_nbformat": 4
 },
 "nbformat": 4,
 "nbformat_minor": 2
}
